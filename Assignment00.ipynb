{
  "nbformat": 4,
  "nbformat_minor": 0,
  "metadata": {
    "colab": {
      "name": "Assignment00.ipynb",
      "provenance": []
    },
    "kernelspec": {
      "name": "python3",
      "display_name": "Python 3"
    },
    "language_info": {
      "name": "python"
    }
  },
  "cells": [
    {
      "cell_type": "markdown",
      "source": [
        "Problem 1: What is the magnitude of $2 - \\sqrt{2}i$?\n",
        "\n",
        "$\\color{red}{\\text{Answer:}}$\n"
      ],
      "metadata": {
        "id": "9rJBb_vWgZhZ"
      }
    },
    {
      "cell_type": "markdown",
      "source": [
        "Problem 2: What is the complex conjugate of $e^\\frac{\\pi i}{3}$?\n",
        "\n",
        "Answer:"
      ],
      "metadata": {
        "id": "UFbgE-8ZgpnX"
      }
    },
    {
      "cell_type": "markdown",
      "source": [
        "Problem 3: \n",
        "Compute $\\begin{pmatrix}\n",
        "-1&1\\\\\n",
        "3&-1\n",
        "\\end{pmatrix} \\cdot \n",
        "\\begin{pmatrix}\n",
        "0&1\\\\\n",
        "2&0\n",
        "\\end{pmatrix}$\n"
      ],
      "metadata": {
        "id": "liMEZfytg69R"
      }
    },
    {
      "cell_type": "markdown",
      "source": [
        "Problem 4: Determine which pairs of matrices below commute.\n",
        "\n",
        "(Matrices $A$ and $B$ are said to commute if $AB=BA$).\n",
        "\n",
        "(a) $$ \\begin{pmatrix}\n",
        "0 & 1\\\\\n",
        "1 & 0\n",
        "\\end{pmatrix} \\textrm{and} \\begin{pmatrix}\n",
        "1 & 0\\\\\n",
        "0 & 1\n",
        "\\end{pmatrix}$$\n",
        "\n",
        "(b) $$\\begin{pmatrix}\n",
        "0 & 1\\\\\n",
        "1 & 0\n",
        "\\end{pmatrix} \\textrm{and} \\begin{pmatrix}\n",
        "1 & 0\\\\\n",
        "0 & -1\n",
        "\\end{pmatrix}$$\n",
        "\n",
        "(c) $$\\begin{pmatrix}\n",
        "1 & 1\\\\\n",
        "1 & -1\n",
        "\\end{pmatrix} \\textrm{and} \\begin{pmatrix}\n",
        "0 & 1\\\\\n",
        "1 & 0\n",
        "\\end{pmatrix}$$\n",
        "\n",
        "(d) $$\\begin{pmatrix}\n",
        "1 & 1\\\\\n",
        "1 & -1\n",
        "\\end{pmatrix} \\textrm{and} \\begin{pmatrix}\n",
        "1 & 0\\\\\n",
        "0 & 1\n",
        "\\end{pmatrix}$$\n",
        "\n",
        "(e) $$\\begin{pmatrix}\n",
        "2 & 0\\\\\n",
        "0 & -1\n",
        "\\end{pmatrix} \\textrm{and} \\begin{pmatrix}\n",
        "3 & 0\\\\\n",
        "0 & 2\n",
        "\\end{pmatrix}$$\n"
      ],
      "metadata": {
        "id": "TJ_bH24rg4qP"
      }
    },
    {
      "cell_type": "markdown",
      "source": [
        "Problem 5: What is (i.e., determine) a unit vector in\n",
        "$\\mathbb{R}^2$ that makes a $\\frac{\\pi}{4}$ angle with both the $x$- and $y$-axes?\n",
        "\n",
        "Problem 6:What is a real unit vector in\n",
        "$\\mathbb{R}^2$ orthogonal to$ \\begin{pmatrix}\n",
        "\\frac{1}{\\sqrt{3}}\\\\[0.5ex]\n",
        "\\frac{\\sqrt{2}}{\\sqrt{3}}\n",
        "\\end{pmatrix}$?"
      ],
      "metadata": {
        "id": "5yQKZU-dhTXB"
      }
    },
    {
      "cell_type": "markdown",
      "source": [
        "Problem 7: What is the inner product \n",
        "between the vectors $\\begin{pmatrix}\n",
        "\\frac{\\sqrt{3}}{2}\\\\[0.5ex]\n",
        "\\frac{1}{2}\n",
        "\\end{pmatrix} \\textrm{and} \n",
        "\\begin{pmatrix}\n",
        "\\frac{1}{2}\\\\[0.5ex]\n",
        "\\frac{\\sqrt{3}}{2}\n",
        "\\end{pmatrix}$ ?\n"
      ],
      "metadata": {
        "id": "PqgteRYthF5U"
      }
    },
    {
      "cell_type": "markdown",
      "source": [
        "Problem 8: And what is the angle between the two vectors in degrees?\n",
        "\n",
        "Answer: \n",
        "\n",
        "Problem 9: Determine the eigenvalues of the matrix $\n",
        "\\begin{pmatrix}\n",
        "0&1\\\\\n",
        "1&0\n",
        "\\end{pmatrix} $\n",
        "\n",
        "Answer:\n",
        "\n",
        "Problem 10: Determine the eigenvector corresponding to the largest eigenvalue of the above matrix. \n",
        "\n",
        "What other eigenvectors does the matrix have?\n",
        "\n",
        "Answer: "
      ],
      "metadata": {
        "id": "a0wtLX85hJVj"
      }
    }
  ]
}